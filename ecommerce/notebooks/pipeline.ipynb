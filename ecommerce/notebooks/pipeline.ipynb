{
 "cells": [
  {
   "cell_type": "code",
   "execution_count": 5,
   "id": "initial_id",
   "metadata": {
    "collapsed": true,
    "ExecuteTime": {
     "end_time": "2024-05-17T16:36:09.134597Z",
     "start_time": "2024-05-17T16:36:09.131747Z"
    }
   },
   "outputs": [],
   "source": [
    "from ecommerce.operations.base.read import ReadOperation\n",
    "from ecommerce.operations.custom.feature_extractor import FeatureExtractionOperation\n",
    "from ecommerce.operations.custom.data_splitter import SplitDataOperation\n",
    "from ecommerce.configs import columns as c"
   ]
  },
  {
   "cell_type": "code",
   "execution_count": 6,
   "outputs": [],
   "source": [
    "# data = ReadCriteoSearchData(path=\"/Users/maciej.filanowicz/ecommerce/data/raw/CriteoSearchData\",object_format='tsv', header=0).execute()\n",
    "# WriteOperation(data=data, \n",
    "#                path=\"/Users/maciej.filanowicz/ecommerce/data/standardized/df_source.parquet\",\n",
    "#                data_format=\"parquet\", \n",
    "#                mode=\"w\", \n",
    "#                partition_cols=[c.PARTNER_ID]).execute()"
   ],
   "metadata": {
    "collapsed": false,
    "ExecuteTime": {
     "end_time": "2024-05-17T16:36:09.399870Z",
     "start_time": "2024-05-17T16:36:09.398322Z"
    }
   },
   "id": "bff9d75e384b0ce7"
  },
  {
   "cell_type": "code",
   "execution_count": 7,
   "outputs": [
    {
     "name": "stderr",
     "output_type": "stream",
     "text": [
      "/Users/maciej.filanowicz/ecommerce/ecommerce/operations/custom/feature_extractor.py:115: FutureWarning: Setting an item of incompatible dtype is deprecated and will raise in a future error of pandas. Value '[0. 0. 0. ... 0. 0. 0.]' has dtype incompatible with string, please explicitly cast to a compatible dtype first.\n",
      "  df.loc[:, c.SALES_AMOUNT_IN_EURO] = df[c.SALES_AMOUNT_IN_EURO].astype(float).apply(lambda x: max(x, 0))\n",
      "/Users/maciej.filanowicz/ecommerce/ecommerce/operations/custom/feature_extractor.py:116: FutureWarning: Setting an item of incompatible dtype is deprecated and will raise in a future error of pandas. Value '[0. 0. 0. ... 0. 0. 0.]' has dtype incompatible with string, please explicitly cast to a compatible dtype first.\n",
      "  df.loc[:, c.PRODUCT_PRICE] = df[c.PRODUCT_PRICE].apply(float)\n"
     ]
    }
   ],
   "source": [
    "data = ReadOperation(path=\"/Users/maciej.filanowicz/ecommerce/data/standardized/df_source.parquet/partner_id=E68029E9BCE099A60571AF757CBB6A08\",object_format='parquet').execute()\n",
    "df_features = FeatureExtractionOperation().execute(df=data)\n",
    "df_train, df_validation, df_test = SplitDataOperation().execute(df=df_features, validation_days=7, test_days=7)"
   ],
   "metadata": {
    "collapsed": false,
    "ExecuteTime": {
     "end_time": "2024-05-17T16:36:09.995653Z",
     "start_time": "2024-05-17T16:36:09.638509Z"
    }
   },
   "id": "a4ab45f790e9319e"
  },
  {
   "cell_type": "code",
   "execution_count": null,
   "outputs": [],
   "source": [],
   "metadata": {
    "collapsed": false
   },
   "id": "e5621558c8b22943"
  }
 ],
 "metadata": {
  "kernelspec": {
   "display_name": "Python 3",
   "language": "python",
   "name": "python3"
  },
  "language_info": {
   "codemirror_mode": {
    "name": "ipython",
    "version": 2
   },
   "file_extension": ".py",
   "mimetype": "text/x-python",
   "name": "python",
   "nbconvert_exporter": "python",
   "pygments_lexer": "ipython2",
   "version": "2.7.6"
  }
 },
 "nbformat": 4,
 "nbformat_minor": 5
}
